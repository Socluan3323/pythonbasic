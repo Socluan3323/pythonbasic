{
 "cells": [
  {
   "cell_type": "code",
   "execution_count": 1,
   "id": "fb6decbe",
   "metadata": {},
   "outputs": [],
   "source": [
    "n = int(input())\n",
    "num = list(map(float, input().split()))"
   ]
  },
  {
   "cell_type": "code",
   "execution_count": 4,
   "id": "e977b57f",
   "metadata": {},
   "outputs": [],
   "source": [
    "def list(num):\n",
    "    total = sum(num)\n",
    "    minimum = min(num)\n",
    "    maximum = max(num)\n",
    "    return total, minimum, maximum\n",
    "total, minimum, maximum = list(num)"
   ]
  },
  {
   "cell_type": "code",
   "execution_count": 5,
   "id": "bb4ffba0",
   "metadata": {},
   "outputs": [
    {
     "name": "stdout",
     "output_type": "stream",
     "text": [
      "6.0 1.0 3.0\n"
     ]
    }
   ],
   "source": [
    "print(total, minimum, maximum)"
   ]
  }
 ],
 "metadata": {
  "kernelspec": {
   "display_name": "Python 3",
   "language": "python",
   "name": "python3"
  },
  "language_info": {
   "codemirror_mode": {
    "name": "ipython",
    "version": 3
   },
   "file_extension": ".py",
   "mimetype": "text/x-python",
   "name": "python",
   "nbconvert_exporter": "python",
   "pygments_lexer": "ipython3",
   "version": "3.13.7"
  }
 },
 "nbformat": 4,
 "nbformat_minor": 5
}
