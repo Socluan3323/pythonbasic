{
 "cells": [
  {
   "cell_type": "code",
   "execution_count": 1,
   "id": "39d438c2",
   "metadata": {},
   "outputs": [],
   "source": [
    "s = input()\n"
   ]
  },
  {
   "cell_type": "code",
   "execution_count": 2,
   "id": "4b27f6ad",
   "metadata": {},
   "outputs": [],
   "source": [
    "def split_and_join(s):\n",
    "    words = s.split()\n",
    "    return \"-\".join(words)"
   ]
  },
  {
   "cell_type": "code",
   "execution_count": 3,
   "id": "882d9d66",
   "metadata": {},
   "outputs": [
    {
     "name": "stdout",
     "output_type": "stream",
     "text": [
      "Dear-my-Mother\n"
     ]
    }
   ],
   "source": [
    "print(split_and_join(s))"
   ]
  }
 ],
 "metadata": {
  "kernelspec": {
   "display_name": "Python 3",
   "language": "python",
   "name": "python3"
  },
  "language_info": {
   "codemirror_mode": {
    "name": "ipython",
    "version": 3
   },
   "file_extension": ".py",
   "mimetype": "text/x-python",
   "name": "python",
   "nbconvert_exporter": "python",
   "pygments_lexer": "ipython3",
   "version": "3.13.7"
  }
 },
 "nbformat": 4,
 "nbformat_minor": 5
}
