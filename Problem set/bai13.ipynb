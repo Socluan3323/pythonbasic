{
 "cells": [
  {
   "cell_type": "code",
   "execution_count": 4,
   "id": "92282f5d",
   "metadata": {},
   "outputs": [],
   "source": [
    "s = input()\n",
    "c1 = input()\n",
    "c2 = input()"
   ]
  },
  {
   "cell_type": "code",
   "execution_count": 5,
   "id": "c6241882",
   "metadata": {},
   "outputs": [],
   "source": [
    "def replacement(s):\n",
    "    return s.replace(c1,c2)"
   ]
  },
  {
   "cell_type": "code",
   "execution_count": 6,
   "id": "b41cc39b",
   "metadata": {},
   "outputs": [
    {
     "name": "stdout",
     "output_type": "stream",
     "text": [
      "hoydo\n"
     ]
    }
   ],
   "source": [
    "print(replacement(s))"
   ]
  }
 ],
 "metadata": {
  "kernelspec": {
   "display_name": "Python 3",
   "language": "python",
   "name": "python3"
  },
  "language_info": {
   "codemirror_mode": {
    "name": "ipython",
    "version": 3
   },
   "file_extension": ".py",
   "mimetype": "text/x-python",
   "name": "python",
   "nbconvert_exporter": "python",
   "pygments_lexer": "ipython3",
   "version": "3.13.7"
  }
 },
 "nbformat": 4,
 "nbformat_minor": 5
}
