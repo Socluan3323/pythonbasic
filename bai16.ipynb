{
 "cells": [
  {
   "cell_type": "code",
   "execution_count": 7,
   "id": "dbdf51ba",
   "metadata": {},
   "outputs": [],
   "source": [
    "n = int(input())\n",
    "n2 = list(map(int, input().split()))\n",
    "x = int(input())"
   ]
  },
  {
   "cell_type": "code",
   "execution_count": 8,
   "id": "de560600",
   "metadata": {},
   "outputs": [],
   "source": [
    "def append_to_end(n2,x):\n",
    "    n2.append(x)\n",
    "    return n2"
   ]
  },
  {
   "cell_type": "code",
   "execution_count": 9,
   "id": "5cdfc14e",
   "metadata": {},
   "outputs": [
    {
     "name": "stdout",
     "output_type": "stream",
     "text": [
      "4 5 6\n"
     ]
    }
   ],
   "source": [
    "print(*append_to_end(n2,x))"
   ]
  }
 ],
 "metadata": {
  "kernelspec": {
   "display_name": "Python 3",
   "language": "python",
   "name": "python3"
  },
  "language_info": {
   "codemirror_mode": {
    "name": "ipython",
    "version": 3
   },
   "file_extension": ".py",
   "mimetype": "text/x-python",
   "name": "python",
   "nbconvert_exporter": "python",
   "pygments_lexer": "ipython3",
   "version": "3.13.7"
  }
 },
 "nbformat": 4,
 "nbformat_minor": 5
}
