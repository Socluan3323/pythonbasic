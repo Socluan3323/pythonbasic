{
 "cells": [
  {
   "cell_type": "code",
   "execution_count": 5,
   "id": "67add4a8",
   "metadata": {},
   "outputs": [],
   "source": [
    "x = float(input())"
   ]
  },
  {
   "cell_type": "code",
   "execution_count": 6,
   "id": "ca3bc306",
   "metadata": {},
   "outputs": [],
   "source": [
    "def round(x):\n",
    "    return f'{x:.2f}' "
   ]
  },
  {
   "cell_type": "code",
   "execution_count": 7,
   "id": "d5e6937a",
   "metadata": {},
   "outputs": [
    {
     "name": "stdout",
     "output_type": "stream",
     "text": [
      "9.15\n"
     ]
    }
   ],
   "source": [
    "print(round(x))"
   ]
  }
 ],
 "metadata": {
  "kernelspec": {
   "display_name": "Python 3",
   "language": "python",
   "name": "python3"
  },
  "language_info": {
   "codemirror_mode": {
    "name": "ipython",
    "version": 3
   },
   "file_extension": ".py",
   "mimetype": "text/x-python",
   "name": "python",
   "nbconvert_exporter": "python",
   "pygments_lexer": "ipython3",
   "version": "3.13.7"
  }
 },
 "nbformat": 4,
 "nbformat_minor": 5
}
